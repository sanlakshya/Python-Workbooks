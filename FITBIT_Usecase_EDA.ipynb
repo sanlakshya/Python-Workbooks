{
  "nbformat": 4,
  "nbformat_minor": 0,
  "metadata": {
    "colab": {
      "provenance": [],
      "authorship_tag": "ABX9TyPCI4Qxg4+csGkNUhS6DxyW",
      "include_colab_link": true
    },
    "kernelspec": {
      "name": "python3",
      "display_name": "Python 3"
    },
    "language_info": {
      "name": "python"
    }
  },
  "cells": [
    {
      "cell_type": "markdown",
      "metadata": {
        "id": "view-in-github",
        "colab_type": "text"
      },
      "source": [
        "<a href=\"https://colab.research.google.com/github/sanlakshya/Python-Workbooks/blob/main/FITBIT_Usecase_EDA.ipynb\" target=\"_parent\"><img src=\"https://colab.research.google.com/assets/colab-badge.svg\" alt=\"Open In Colab\"/></a>"
      ]
    },
    {
      "cell_type": "code",
      "execution_count": 1,
      "metadata": {
        "colab": {
          "base_uri": "https://localhost:8080/"
        },
        "id": "Hv5PhL67eSPm",
        "outputId": "a1c95d5b-8387-42be-8920-1ad3fb861c04"
      },
      "outputs": [
        {
          "output_type": "stream",
          "name": "stdout",
          "text": [
            "/usr/local/lib/python3.11/dist-packages/gdown/__main__.py:140: FutureWarning: Option `--id` was deprecated in version 4.3.1 and will be removed in 5.0. You don't need to pass it anymore to use a file ID.\n",
            "  warnings.warn(\n",
            "Downloading...\n",
            "From: https://drive.google.com/uc?id=1vk1Pu0djiYcrdc85yUXZ_Rqq2oZNcohd\n",
            "To: /content/fit.txt\n",
            "100% 3.43k/3.43k [00:00<00:00, 12.0MB/s]\n"
          ]
        }
      ],
      "source": [
        "!gdown --id 1vk1Pu0djiYcrdc85yUXZ_Rqq2oZNcohd -O fit.txt\n"
      ]
    },
    {
      "cell_type": "code",
      "source": [
        "import numpy as np\n",
        "data=np.loadtxt('fit.txt',dtype='str')\n",
        "data[:5]"
      ],
      "metadata": {
        "colab": {
          "base_uri": "https://localhost:8080/"
        },
        "id": "YlQM0NQ1e814",
        "outputId": "25028c8f-accc-4e5f-df52-42605dff7169"
      },
      "execution_count": 4,
      "outputs": [
        {
          "output_type": "stream",
          "name": "stderr",
          "text": [
            "/tmp/ipython-input-4203949289.py:2: UserWarning: Input line 1 contained no data and will not be counted towards `max_rows=50000`.  This differs from the behaviour in NumPy <=1.22 which counted lines rather than rows.  If desired, the previous behaviour can be achieved by using `itertools.islice`.\n",
            "Please see the 1.23 release notes for an example on how to do this.  If you wish to ignore this warning, use `warnings.filterwarnings`.  This warning is expected to be removed in the future and is given only once per `loadtxt` call.\n",
            "  data=np.loadtxt('fit.txt',dtype='str')\n"
          ]
        },
        {
          "output_type": "execute_result",
          "data": {
            "text/plain": [
              "array([['06-10-2017', '5464', 'Neutral', '181', '5', 'Inactive'],\n",
              "       ['07-10-2017', '6041', 'Sad', '197', '8', 'Inactive'],\n",
              "       ['08-10-2017', '25', 'Sad', '0', '5', 'Inactive'],\n",
              "       ['09-10-2017', '5461', 'Sad', '174', '4', 'Inactive'],\n",
              "       ['10-10-2017', '6915', 'Neutral', '223', '5', 'Active']],\n",
              "      dtype='<U10')"
            ]
          },
          "metadata": {},
          "execution_count": 4
        }
      ]
    },
    {
      "cell_type": "code",
      "source": [
        "type(data)"
      ],
      "metadata": {
        "colab": {
          "base_uri": "https://localhost:8080/"
        },
        "id": "W35yojLTfyXK",
        "outputId": "64e65081-a68d-4417-f621-a9cd3d6efa3a"
      },
      "execution_count": 5,
      "outputs": [
        {
          "output_type": "execute_result",
          "data": {
            "text/plain": [
              "numpy.ndarray"
            ]
          },
          "metadata": {},
          "execution_count": 5
        }
      ]
    },
    {
      "cell_type": "code",
      "source": [
        "data.shape#Total number of DP"
      ],
      "metadata": {
        "colab": {
          "base_uri": "https://localhost:8080/"
        },
        "id": "1DrVH6mPf7db",
        "outputId": "8834c1fd-eeae-4de7-87d7-09285d32d02c"
      },
      "execution_count": 6,
      "outputs": [
        {
          "output_type": "execute_result",
          "data": {
            "text/plain": [
              "(96, 6)"
            ]
          },
          "metadata": {},
          "execution_count": 6
        }
      ]
    },
    {
      "cell_type": "code",
      "source": [
        "#Extract Each features in the separate variables"
      ],
      "metadata": {
        "id": "mPAToXzwf7mN"
      },
      "execution_count": null,
      "outputs": []
    },
    {
      "cell_type": "code",
      "source": [
        "data[0]"
      ],
      "metadata": {
        "colab": {
          "base_uri": "https://localhost:8080/"
        },
        "id": "aa67efxff7ph",
        "outputId": "a329083d-dff3-486d-d627-84f114394ccd"
      },
      "execution_count": 7,
      "outputs": [
        {
          "output_type": "execute_result",
          "data": {
            "text/plain": [
              "array(['06-10-2017', '5464', 'Neutral', '181', '5', 'Inactive'],\n",
              "      dtype='<U10')"
            ]
          },
          "metadata": {},
          "execution_count": 7
        }
      ]
    },
    {
      "cell_type": "code",
      "source": [
        "data.T[0]"
      ],
      "metadata": {
        "colab": {
          "base_uri": "https://localhost:8080/"
        },
        "id": "qaJpRsuuf7sz",
        "outputId": "c0f7003e-b15a-4fa0-ae7f-b472bc6a00f1"
      },
      "execution_count": 8,
      "outputs": [
        {
          "output_type": "execute_result",
          "data": {
            "text/plain": [
              "array(['06-10-2017', '07-10-2017', '08-10-2017', '09-10-2017',\n",
              "       '10-10-2017', '11-10-2017', '12-10-2017', '13-10-2017',\n",
              "       '14-10-2017', '15-10-2017', '16-10-2017', '17-10-2017',\n",
              "       '18-10-2017', '19-10-2017', '20-10-2017', '21-10-2017',\n",
              "       '22-10-2017', '23-10-2017', '24-10-2017', '25-10-2017',\n",
              "       '26-10-2017', '27-10-2017', '28-10-2017', '29-10-2017',\n",
              "       '30-10-2017', '31-10-2017', '01-11-2017', '02-11-2017',\n",
              "       '03-11-2017', '04-11-2017', '05-11-2017', '06-11-2017',\n",
              "       '07-11-2017', '08-11-2017', '09-11-2017', '10-11-2017',\n",
              "       '11-11-2017', '12-11-2017', '13-11-2017', '14-11-2017',\n",
              "       '15-11-2017', '16-11-2017', '17-11-2017', '18-11-2017',\n",
              "       '19-11-2017', '20-11-2017', '21-11-2017', '22-11-2017',\n",
              "       '23-11-2017', '24-11-2017', '25-11-2017', '26-11-2017',\n",
              "       '27-11-2017', '28-11-2017', '29-11-2017', '30-11-2017',\n",
              "       '01-12-2017', '02-12-2017', '03-12-2017', '04-12-2017',\n",
              "       '05-12-2017', '06-12-2017', '07-12-2017', '08-12-2017',\n",
              "       '09-12-2017', '10-12-2017', '11-12-2017', '12-12-2017',\n",
              "       '13-12-2017', '14-12-2017', '15-12-2017', '16-12-2017',\n",
              "       '17-12-2017', '18-12-2017', '19-12-2017', '20-12-2017',\n",
              "       '21-12-2017', '22-12-2017', '23-12-2017', '24-12-2017',\n",
              "       '25-12-2017', '26-12-2017', '27-12-2017', '28-12-2017',\n",
              "       '29-12-2017', '30-12-2017', '31-12-2017', '01-01-2018',\n",
              "       '02-01-2018', '03-01-2018', '04-01-2018', '05-01-2018',\n",
              "       '06-01-2018', '07-01-2018', '08-01-2018', '09-01-2018'],\n",
              "      dtype='<U10')"
            ]
          },
          "metadata": {},
          "execution_count": 8
        }
      ]
    },
    {
      "cell_type": "code",
      "source": [
        "date,step_count,mood,cal_burned,hours_slept,bool_of_active=data.T"
      ],
      "metadata": {
        "id": "nRhlvjkuf7vn"
      },
      "execution_count": 9,
      "outputs": []
    },
    {
      "cell_type": "code",
      "source": [
        "mood"
      ],
      "metadata": {
        "colab": {
          "base_uri": "https://localhost:8080/"
        },
        "id": "40dT5Q9hf7yg",
        "outputId": "0ed51ef3-d007-4fe6-fdce-a752d1e99266"
      },
      "execution_count": 10,
      "outputs": [
        {
          "output_type": "execute_result",
          "data": {
            "text/plain": [
              "array(['Neutral', 'Sad', 'Sad', 'Sad', 'Neutral', 'Sad', 'Sad', 'Sad',\n",
              "       'Sad', 'Sad', 'Sad', 'Sad', 'Happy', 'Sad', 'Sad', 'Sad', 'Sad',\n",
              "       'Neutral', 'Neutral', 'Neutral', 'Neutral', 'Neutral', 'Neutral',\n",
              "       'Happy', 'Neutral', 'Happy', 'Happy', 'Happy', 'Happy', 'Happy',\n",
              "       'Happy', 'Happy', 'Neutral', 'Happy', 'Happy', 'Happy', 'Happy',\n",
              "       'Happy', 'Happy', 'Happy', 'Happy', 'Happy', 'Happy', 'Neutral',\n",
              "       'Happy', 'Happy', 'Happy', 'Happy', 'Happy', 'Happy', 'Happy',\n",
              "       'Happy', 'Happy', 'Neutral', 'Sad', 'Happy', 'Happy', 'Happy',\n",
              "       'Happy', 'Happy', 'Happy', 'Happy', 'Sad', 'Neutral', 'Neutral',\n",
              "       'Sad', 'Sad', 'Neutral', 'Neutral', 'Happy', 'Neutral', 'Neutral',\n",
              "       'Sad', 'Neutral', 'Sad', 'Neutral', 'Neutral', 'Sad', 'Sad', 'Sad',\n",
              "       'Sad', 'Happy', 'Neutral', 'Happy', 'Neutral', 'Sad', 'Sad', 'Sad',\n",
              "       'Neutral', 'Neutral', 'Sad', 'Sad', 'Happy', 'Neutral', 'Neutral',\n",
              "       'Happy'], dtype='<U10')"
            ]
          },
          "metadata": {},
          "execution_count": 10
        }
      ]
    },
    {
      "cell_type": "code",
      "source": [
        "step_count=np.array(step_count,dtype='int')\n",
        "step_count"
      ],
      "metadata": {
        "colab": {
          "base_uri": "https://localhost:8080/"
        },
        "id": "l2O4m0Nof72K",
        "outputId": "a7ed0bb0-5e33-42b4-9e70-f7c0dd2a06b2"
      },
      "execution_count": 11,
      "outputs": [
        {
          "output_type": "execute_result",
          "data": {
            "text/plain": [
              "array([5464, 6041,   25, 5461, 6915, 4545, 4340, 1230,   61, 1258, 3148,\n",
              "       4687, 4732, 3519, 1580, 2822,  181, 3158, 4383, 3881, 4037,  202,\n",
              "        292,  330, 2209, 4550, 4435, 4779, 1831, 2255,  539, 5464, 6041,\n",
              "       4068, 4683, 4033, 6314,  614, 3149, 4005, 4880, 4136,  705,  570,\n",
              "        269, 4275, 5999, 4421, 6930, 5195,  546,  493,  995, 1163, 6676,\n",
              "       3608,  774, 1421, 4064, 2725, 5934, 1867, 3721, 2374, 2909, 1648,\n",
              "        799, 7102, 3941, 7422,  437, 1231, 1696, 4921,  221, 6500, 3575,\n",
              "       4061,  651,  753,  518, 5537, 4108, 5376, 3066,  177,   36,  299,\n",
              "       1447, 2599,  702,  133,  153,  500, 2127, 2203])"
            ]
          },
          "metadata": {},
          "execution_count": 11
        }
      ]
    },
    {
      "cell_type": "code",
      "source": [
        "cal_burned=np.array(cal_burned,dtype='int')\n",
        "hours_slept=np.array(hours_slept,dtype='int')"
      ],
      "metadata": {
        "id": "QlTHI-Tsf74A"
      },
      "execution_count": 12,
      "outputs": []
    },
    {
      "cell_type": "code",
      "source": [
        "cal_burned.dtype"
      ],
      "metadata": {
        "colab": {
          "base_uri": "https://localhost:8080/"
        },
        "id": "YhhYh3anf77m",
        "outputId": "a74dddad-d461-4124-9d92-046d43b3fe31"
      },
      "execution_count": 14,
      "outputs": [
        {
          "output_type": "execute_result",
          "data": {
            "text/plain": [
              "dtype('int64')"
            ]
          },
          "metadata": {},
          "execution_count": 14
        }
      ]
    },
    {
      "cell_type": "code",
      "source": [
        "np.unique(mood)"
      ],
      "metadata": {
        "colab": {
          "base_uri": "https://localhost:8080/"
        },
        "id": "xj8x5Xy2iCEz",
        "outputId": "c67b0b33-9acf-42b9-bb88-26aa714ed4cc"
      },
      "execution_count": 15,
      "outputs": [
        {
          "output_type": "execute_result",
          "data": {
            "text/plain": [
              "array(['Happy', 'Neutral', 'Sad'], dtype='<U10')"
            ]
          },
          "metadata": {},
          "execution_count": 15
        }
      ]
    },
    {
      "cell_type": "code",
      "source": [
        "np.unique(bool_of_active)"
      ],
      "metadata": {
        "colab": {
          "base_uri": "https://localhost:8080/"
        },
        "id": "C1SB8IwniCSR",
        "outputId": "478539cc-43e7-4d15-dcc0-be1b1c514f65"
      },
      "execution_count": 18,
      "outputs": [
        {
          "output_type": "execute_result",
          "data": {
            "text/plain": [
              "array(['Active', 'Inactive'], dtype='<U10')"
            ]
          },
          "metadata": {},
          "execution_count": 18
        }
      ]
    },
    {
      "cell_type": "code",
      "source": [
        "#Average Stepcount"
      ],
      "metadata": {
        "id": "tD1Kpf_DiCcr"
      },
      "execution_count": null,
      "outputs": []
    },
    {
      "cell_type": "code",
      "source": [
        "int(np.mean(step_count))"
      ],
      "metadata": {
        "colab": {
          "base_uri": "https://localhost:8080/"
        },
        "id": "kJCYDEVQiCnH",
        "outputId": "c5dc2561-2073-4821-f0c2-371f9d5fb191"
      },
      "execution_count": 21,
      "outputs": [
        {
          "output_type": "execute_result",
          "data": {
            "text/plain": [
              "2935"
            ]
          },
          "metadata": {},
          "execution_count": 21
        }
      ]
    },
    {
      "cell_type": "code",
      "source": [
        "#Day for which step count is Highest"
      ],
      "metadata": {
        "id": "N0NYXPrWnLHf"
      },
      "execution_count": null,
      "outputs": []
    },
    {
      "cell_type": "code",
      "source": [
        "str(date[int(step_count.argmax())])"
      ],
      "metadata": {
        "colab": {
          "base_uri": "https://localhost:8080/",
          "height": 36
        },
        "id": "Fr9E0kbynQ96",
        "outputId": "90e946d2-ab29-45b2-8f6c-49e7be375ce9"
      },
      "execution_count": 25,
      "outputs": [
        {
          "output_type": "execute_result",
          "data": {
            "text/plain": [
              "'14-12-2017'"
            ],
            "application/vnd.google.colaboratory.intrinsic+json": {
              "type": "string"
            }
          },
          "metadata": {},
          "execution_count": 25
        }
      ]
    },
    {
      "cell_type": "code",
      "source": [
        "#calories burned on the highest day"
      ],
      "metadata": {
        "id": "9B716Jcinggq"
      },
      "execution_count": null,
      "outputs": []
    },
    {
      "cell_type": "code",
      "source": [
        "cal_burned[step_count.argmax()]"
      ],
      "metadata": {
        "colab": {
          "base_uri": "https://localhost:8080/"
        },
        "id": "6ZDfnZAvnkqh",
        "outputId": "29b64a2a-6dd3-48bc-9a1e-3d46b2de7e70"
      },
      "execution_count": 26,
      "outputs": [
        {
          "output_type": "execute_result",
          "data": {
            "text/plain": [
              "np.int64(243)"
            ]
          },
          "metadata": {},
          "execution_count": 26
        }
      ]
    },
    {
      "cell_type": "code",
      "source": [
        "step_count.max()"
      ],
      "metadata": {
        "colab": {
          "base_uri": "https://localhost:8080/"
        },
        "id": "90_-ZS9RnsAS",
        "outputId": "eb193abb-ae6e-4d47-8252-9203abd87261"
      },
      "execution_count": 27,
      "outputs": [
        {
          "output_type": "execute_result",
          "data": {
            "text/plain": [
              "np.int64(7422)"
            ]
          },
          "metadata": {},
          "execution_count": 27
        }
      ]
    },
    {
      "cell_type": "code",
      "source": [
        "#Average stepcount on Good ,BAD Mood"
      ],
      "metadata": {
        "id": "EZvx5HpAnvW2"
      },
      "execution_count": null,
      "outputs": []
    },
    {
      "cell_type": "code",
      "source": [
        "int(np.mean(step_count[mood=='Sad']))"
      ],
      "metadata": {
        "colab": {
          "base_uri": "https://localhost:8080/"
        },
        "id": "Y2d04Zy6nzz8",
        "outputId": "90fd8f1a-00bc-4fa6-e257-19e6d8d301ef"
      },
      "execution_count": 32,
      "outputs": [
        {
          "output_type": "execute_result",
          "data": {
            "text/plain": [
              "2103"
            ]
          },
          "metadata": {},
          "execution_count": 32
        }
      ]
    },
    {
      "cell_type": "code",
      "source": [
        "int(np.mean(step_count[mood=='Happy']))"
      ],
      "metadata": {
        "colab": {
          "base_uri": "https://localhost:8080/"
        },
        "outputId": "1c231656-890e-457f-cd4a-9b7787a19743",
        "id": "SK5R33gfoWYA"
      },
      "execution_count": 34,
      "outputs": [
        {
          "output_type": "execute_result",
          "data": {
            "text/plain": [
              "3392"
            ]
          },
          "metadata": {},
          "execution_count": 34
        }
      ]
    },
    {
      "cell_type": "code",
      "source": [
        "np.unique(mood[step_count>4000],return_counts=True)"
      ],
      "metadata": {
        "colab": {
          "base_uri": "https://localhost:8080/"
        },
        "id": "QqP7qDnEodST",
        "outputId": "ae5d9525-94ce-47a5-a372-1311f63c9150"
      },
      "execution_count": 35,
      "outputs": [
        {
          "output_type": "execute_result",
          "data": {
            "text/plain": [
              "(array(['Happy', 'Neutral', 'Sad'], dtype='<U10'), array([22,  9,  7]))"
            ]
          },
          "metadata": {},
          "execution_count": 35
        }
      ]
    },
    {
      "cell_type": "code",
      "source": [
        "np.unique(mood[step_count<2000],return_counts=True)"
      ],
      "metadata": {
        "colab": {
          "base_uri": "https://localhost:8080/"
        },
        "outputId": "07fb39f0-dab3-4ebf-c8b8-131226b390ca",
        "id": "BtKSh1C3oxOM"
      },
      "execution_count": 36,
      "outputs": [
        {
          "output_type": "execute_result",
          "data": {
            "text/plain": [
              "(array(['Happy', 'Neutral', 'Sad'], dtype='<U10'), array([13,  8, 18]))"
            ]
          },
          "metadata": {},
          "execution_count": 36
        }
      ]
    },
    {
      "cell_type": "code",
      "source": [
        "#The individual moods seems to be happy when he has done more step counts and mood becomes bad when stepcounts are less"
      ],
      "metadata": {
        "id": "GyGRuIm1o07J"
      },
      "execution_count": null,
      "outputs": []
    }
  ]
}